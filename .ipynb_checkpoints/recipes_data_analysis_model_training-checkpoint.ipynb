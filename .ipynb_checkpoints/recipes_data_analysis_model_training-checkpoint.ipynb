{
 "cells": [
  {
   "cell_type": "markdown",
   "metadata": {},
   "source": [
    "### recipeeze\n",
    "* Contributors\n",
    "    * Todd McCullough [Git](https://github.com/tamccullough)\n",
    "    * Marko Topitch [Git](https://github.com/TopMarko)"
   ]
  },
  {
   "cell_type": "code",
   "execution_count": 1,
   "metadata": {},
   "outputs": [],
   "source": [
    "import pandas as pd\n",
    "import numpy as np\n",
    "import heapq\n",
    "import random\n",
    "from math import floor"
   ]
  },
  {
   "cell_type": "markdown",
   "metadata": {},
   "source": [
    "##### Import Surprise\n",
    "[Surprise](http://surpriselib.com/) is a Python scikit building and analyzing recommender systems that deal with explicit rating data."
   ]
  },
  {
   "cell_type": "code",
   "execution_count": 2,
   "metadata": {},
   "outputs": [],
   "source": [
    "from surprise import Reader, Dataset\n",
    "from surprise import KNNWithMeans\n",
    "from surprise.model_selection import cross_validate"
   ]
  },
  {
   "cell_type": "markdown",
   "metadata": {},
   "source": [
    "import pickle\n",
    "filename = 'model/recipes_recommender_model.sav'\n",
    "rr_model = pickle.load(open(filename, 'rb'))"
   ]
  },
  {
   "cell_type": "markdown",
   "metadata": {},
   "source": [
    "##### Import Data"
   ]
  },
  {
   "cell_type": "code",
   "execution_count": 3,
   "metadata": {},
   "outputs": [],
   "source": [
    "recipes = pd.read_csv('datasets/rr-recipes.csv')\n",
    "ratings = pd.read_csv('datasets/rr-ratings.csv')"
   ]
  },
  {
   "cell_type": "code",
   "execution_count": 4,
   "metadata": {},
   "outputs": [
    {
     "data": {
      "text/html": [
       "<div>\n",
       "<style scoped>\n",
       "    .dataframe tbody tr th:only-of-type {\n",
       "        vertical-align: middle;\n",
       "    }\n",
       "\n",
       "    .dataframe tbody tr th {\n",
       "        vertical-align: top;\n",
       "    }\n",
       "\n",
       "    .dataframe thead th {\n",
       "        text-align: right;\n",
       "    }\n",
       "</style>\n",
       "<table border=\"1\" class=\"dataframe\">\n",
       "  <thead>\n",
       "    <tr style=\"text-align: right;\">\n",
       "      <th></th>\n",
       "      <th>userid</th>\n",
       "      <th>itemid</th>\n",
       "      <th>rating</th>\n",
       "    </tr>\n",
       "  </thead>\n",
       "  <tbody>\n",
       "    <tr>\n",
       "      <th>0</th>\n",
       "      <td>675719</td>\n",
       "      <td>7000</td>\n",
       "      <td>5</td>\n",
       "    </tr>\n",
       "    <tr>\n",
       "      <th>1</th>\n",
       "      <td>1478626</td>\n",
       "      <td>7000</td>\n",
       "      <td>5</td>\n",
       "    </tr>\n",
       "  </tbody>\n",
       "</table>\n",
       "</div>"
      ],
      "text/plain": [
       "    userid  itemid  rating\n",
       "0   675719    7000       5\n",
       "1  1478626    7000       5"
      ]
     },
     "execution_count": 4,
     "metadata": {},
     "output_type": "execute_result"
    }
   ],
   "source": [
    "ratings.head(2)"
   ]
  },
  {
   "cell_type": "code",
   "execution_count": 5,
   "metadata": {},
   "outputs": [
    {
     "data": {
      "text/plain": [
       "(1555581, 3)"
      ]
     },
     "execution_count": 5,
     "metadata": {},
     "output_type": "execute_result"
    }
   ],
   "source": [
    "ratings.shape"
   ]
  },
  {
   "cell_type": "code",
   "execution_count": 6,
   "metadata": {},
   "outputs": [
    {
     "data": {
      "text/html": [
       "<div>\n",
       "<style scoped>\n",
       "    .dataframe tbody tr th:only-of-type {\n",
       "        vertical-align: middle;\n",
       "    }\n",
       "\n",
       "    .dataframe tbody tr th {\n",
       "        vertical-align: top;\n",
       "    }\n",
       "\n",
       "    .dataframe thead th {\n",
       "        text-align: right;\n",
       "    }\n",
       "</style>\n",
       "<table border=\"1\" class=\"dataframe\">\n",
       "  <thead>\n",
       "    <tr style=\"text-align: right;\">\n",
       "      <th></th>\n",
       "      <th>itemid</th>\n",
       "      <th>title</th>\n",
       "      <th>prep_time</th>\n",
       "      <th>cook_time</th>\n",
       "      <th>ready_time</th>\n",
       "      <th>ingredients</th>\n",
       "      <th>directions</th>\n",
       "      <th>url</th>\n",
       "      <th>photo_url</th>\n",
       "    </tr>\n",
       "  </thead>\n",
       "  <tbody>\n",
       "    <tr>\n",
       "      <th>0</th>\n",
       "      <td>7000</td>\n",
       "      <td>Golden Crescent Rolls Recipe</td>\n",
       "      <td>25</td>\n",
       "      <td>15</td>\n",
       "      <td>190</td>\n",
       "      <td>yeast,water,white sugar,salt,egg,butter,flour,...</td>\n",
       "      <td>Dissolve yeast in warm water.**Stir in sugar, ...</td>\n",
       "      <td>https://www.allrecipes.com/recipe/7000</td>\n",
       "      <td>https://images.media-allrecipes.com/userphotos...</td>\n",
       "    </tr>\n",
       "    <tr>\n",
       "      <th>1</th>\n",
       "      <td>7001</td>\n",
       "      <td>Poppy Seed Bread with Glaze Recipe</td>\n",
       "      <td>15</td>\n",
       "      <td>60</td>\n",
       "      <td>80</td>\n",
       "      <td>flour,salt,baking powder,poppy,butter,vegetabl...</td>\n",
       "      <td>'Preheat oven to 350 degrees F (175 degrees C)...</td>\n",
       "      <td>https://www.allrecipes.com/recipe/7001</td>\n",
       "      <td>https://images.media-allrecipes.com/userphotos...</td>\n",
       "    </tr>\n",
       "  </tbody>\n",
       "</table>\n",
       "</div>"
      ],
      "text/plain": [
       "   itemid                               title  prep_time  cook_time  \\\n",
       "0    7000        Golden Crescent Rolls Recipe         25         15   \n",
       "1    7001  Poppy Seed Bread with Glaze Recipe         15         60   \n",
       "\n",
       "   ready_time                                        ingredients  \\\n",
       "0         190  yeast,water,white sugar,salt,egg,butter,flour,...   \n",
       "1          80  flour,salt,baking powder,poppy,butter,vegetabl...   \n",
       "\n",
       "                                          directions  \\\n",
       "0  Dissolve yeast in warm water.**Stir in sugar, ...   \n",
       "1  'Preheat oven to 350 degrees F (175 degrees C)...   \n",
       "\n",
       "                                      url  \\\n",
       "0  https://www.allrecipes.com/recipe/7000   \n",
       "1  https://www.allrecipes.com/recipe/7001   \n",
       "\n",
       "                                           photo_url  \n",
       "0  https://images.media-allrecipes.com/userphotos...  \n",
       "1  https://images.media-allrecipes.com/userphotos...  "
      ]
     },
     "execution_count": 6,
     "metadata": {},
     "output_type": "execute_result"
    }
   ],
   "source": [
    "recipes.head(2)"
   ]
  },
  {
   "cell_type": "code",
   "execution_count": 7,
   "metadata": {},
   "outputs": [],
   "source": [
    "ingredients = pd.DataFrame(recipes.ingredients,columns=['ingredients'])\n",
    "ingredients['count'] = 1"
   ]
  },
  {
   "cell_type": "code",
   "execution_count": 8,
   "metadata": {},
   "outputs": [
    {
     "data": {
      "text/html": [
       "<div>\n",
       "<style scoped>\n",
       "    .dataframe tbody tr th:only-of-type {\n",
       "        vertical-align: middle;\n",
       "    }\n",
       "\n",
       "    .dataframe tbody tr th {\n",
       "        vertical-align: top;\n",
       "    }\n",
       "\n",
       "    .dataframe thead th {\n",
       "        text-align: right;\n",
       "    }\n",
       "</style>\n",
       "<table border=\"1\" class=\"dataframe\">\n",
       "  <thead>\n",
       "    <tr style=\"text-align: right;\">\n",
       "      <th></th>\n",
       "      <th>ingredients</th>\n",
       "      <th>count</th>\n",
       "    </tr>\n",
       "  </thead>\n",
       "  <tbody>\n",
       "    <tr>\n",
       "      <th>3765</th>\n",
       "      <td>chocolate,chocolate</td>\n",
       "      <td>4</td>\n",
       "    </tr>\n",
       "    <tr>\n",
       "      <th>5922</th>\n",
       "      <td>flour,salt,shortening,water</td>\n",
       "      <td>4</td>\n",
       "    </tr>\n",
       "    <tr>\n",
       "      <th>4441</th>\n",
       "      <td>cream cheese,marshmallow</td>\n",
       "      <td>3</td>\n",
       "    </tr>\n",
       "    <tr>\n",
       "      <th>4277</th>\n",
       "      <td>cranberry,marshmallow,white sugar,pineapple,ba...</td>\n",
       "      <td>3</td>\n",
       "    </tr>\n",
       "    <tr>\n",
       "      <th>5642</th>\n",
       "      <td>flour,brown sugar,white sugar,pumpkin,vegetabl...</td>\n",
       "      <td>3</td>\n",
       "    </tr>\n",
       "  </tbody>\n",
       "</table>\n",
       "</div>"
      ],
      "text/plain": [
       "                                            ingredients  count\n",
       "3765                                chocolate,chocolate      4\n",
       "5922                        flour,salt,shortening,water      4\n",
       "4441                           cream cheese,marshmallow      3\n",
       "4277  cranberry,marshmallow,white sugar,pineapple,ba...      3\n",
       "5642  flour,brown sugar,white sugar,pumpkin,vegetabl...      3"
      ]
     },
     "execution_count": 8,
     "metadata": {},
     "output_type": "execute_result"
    }
   ],
   "source": [
    "ingredients_g = ingredients.groupby('ingredients').count().reset_index()\n",
    "ingredients_g = ingredients_g.sort_values('count', ascending=False)\n",
    "ingredients_g.head(5)"
   ]
  },
  {
   "cell_type": "code",
   "execution_count": 9,
   "metadata": {},
   "outputs": [
    {
     "data": {
      "text/plain": [
       "(132353, 3)"
      ]
     },
     "execution_count": 9,
     "metadata": {},
     "output_type": "execute_result"
    }
   ],
   "source": [
    "min_recipe_ratings = 50\n",
    "filter_recipes = ratings['itemid'].value_counts() > min_recipe_ratings\n",
    "filter_recipes = filter_recipes[filter_recipes].index.tolist()\n",
    "\n",
    "min_user_ratings = 50\n",
    "filter_users = ratings['userid'].value_counts() > min_user_ratings\n",
    "filter_users = filter_users[filter_users].index.tolist()\n",
    "\n",
    "ratings = ratings[(ratings['itemid'].isin(filter_recipes)) & (ratings['userid'].isin(filter_users))]\n",
    "ratings.shape"
   ]
  },
  {
   "cell_type": "code",
   "execution_count": 10,
   "metadata": {},
   "outputs": [],
   "source": [
    "users = ratings.userid.unique()"
   ]
  },
  {
   "cell_type": "code",
   "execution_count": 11,
   "metadata": {},
   "outputs": [
    {
     "data": {
      "text/plain": [
       "(1426,)"
      ]
     },
     "execution_count": 11,
     "metadata": {},
     "output_type": "execute_result"
    }
   ],
   "source": [
    "users.shape"
   ]
  },
  {
   "cell_type": "markdown",
   "metadata": {},
   "source": [
    "##### Define a Ratings scale\n",
    "This scale is determined by the lowest and highest rating possible. \n",
    "In this case the lowest rating is 1, while the highest is 5."
   ]
  },
  {
   "cell_type": "code",
   "execution_count": 12,
   "metadata": {},
   "outputs": [],
   "source": [
    "reader = Reader(rating_scale=(1,5)) # This just defines the rating scale\n",
    "data = Dataset.load_from_df(ratings[['userid', 'itemid', 'rating']], reader=reader)"
   ]
  },
  {
   "cell_type": "markdown",
   "metadata": {},
   "source": [
    "### Build the model\n",
    "\n",
    "##### KNN with Means - Surprise\n",
    "\n",
    "[KNN with Means](https://surprise.readthedocs.io/en/stable/knn_inspired.html#surprise.prediction_algorithms.knns.KNNWithMeans) has been chosen for the recommender, which is a basic collaborative filtering algorithm, taking into account the mean ratings of each user."
   ]
  },
  {
   "cell_type": "code",
   "execution_count": 13,
   "metadata": {},
   "outputs": [],
   "source": [
    "def build_recommender(user_based=False, sim_type='cosine'):\n",
    "    sim_options = {\n",
    "        \"name\": sim_type,\n",
    "        \"user_based\": user_based\n",
    "    }\n",
    "\n",
    "    return KNNWithMeans(sim_options=sim_options)"
   ]
  },
  {
   "cell_type": "markdown",
   "metadata": {},
   "source": [
    "##### Calculate the Similarity Matrix\n",
    "\n",
    "Ignoring folds this builds the *Trainset* using [build_full_trainset()](https://surprise.readthedocs.io/en/stable/dataset.html#surprise.dataset.DatasetAutoFolds.build_full_trainset)\n",
    "\n",
    "The Trainset is built using the data, but then contains more information about the data"
   ]
  },
  {
   "cell_type": "code",
   "execution_count": 14,
   "metadata": {},
   "outputs": [
    {
     "name": "stdout",
     "output_type": "stream",
     "text": [
      "Computing the cosine similarity matrix...\n",
      "Done computing similarity matrix.\n"
     ]
    },
    {
     "data": {
      "text/plain": [
       "<surprise.prediction_algorithms.knns.KNNWithMeans at 0x7f6ff6457290>"
      ]
     },
     "execution_count": 14,
     "metadata": {},
     "output_type": "execute_result"
    }
   ],
   "source": [
    "trainset = data.build_full_trainset()\n",
    "# user_based_recommender = build_recommender(user_based=True)\n",
    "item_based_recommender = build_recommender()\n",
    "# User based seems to give a memory error when fit, due to the much larger amount of users than recipes.\n",
    "# user_based_recommender.fit(trainset)\n",
    "item_based_recommender.fit(trainset)"
   ]
  },
  {
   "cell_type": "markdown",
   "metadata": {},
   "source": [
    "### Evaluate the Model\n",
    "\n",
    "Using [cross_validation()](https://surprise.readthedocs.io/en/stable/model_selection.html#cross-validation) from surprise, we can quickly evaluate the model using a few metrics. "
   ]
  },
  {
   "cell_type": "code",
   "execution_count": 15,
   "metadata": {},
   "outputs": [
    {
     "name": "stdout",
     "output_type": "stream",
     "text": [
      "Computing the cosine similarity matrix...\n",
      "Done computing similarity matrix.\n",
      "Computing the cosine similarity matrix...\n",
      "Done computing similarity matrix.\n",
      "Computing the cosine similarity matrix...\n",
      "Done computing similarity matrix.\n",
      "Computing the cosine similarity matrix...\n",
      "Done computing similarity matrix.\n",
      "Computing the cosine similarity matrix...\n",
      "Done computing similarity matrix.\n",
      "Evaluating RMSE, MAE of algorithm KNNWithMeans on 5 split(s).\n",
      "\n",
      "                  Fold 1  Fold 2  Fold 3  Fold 4  Fold 5  Mean    Std     \n",
      "RMSE (testset)    0.8033  0.8080  0.8050  0.7960  0.7937  0.8012  0.0055  \n",
      "MAE (testset)     0.5957  0.5984  0.5925  0.5914  0.5891  0.5934  0.0033  \n",
      "Fit time          11.31   10.81   10.72   10.68   10.70   10.84   0.24    \n",
      "Test time         6.09    6.05    6.03    5.92    6.15    6.05    0.07    \n"
     ]
    },
    {
     "data": {
      "text/plain": [
       "{'test_rmse': array([0.80331337, 0.80799963, 0.80499603, 0.79596723, 0.79365242]),\n",
       " 'test_mae': array([0.59565276, 0.59838486, 0.5925189 , 0.59135301, 0.58908241]),\n",
       " 'fit_time': (11.305488109588623,\n",
       "  10.813036680221558,\n",
       "  10.716081142425537,\n",
       "  10.682083368301392,\n",
       "  10.703468084335327),\n",
       " 'test_time': (6.086737394332886,\n",
       "  6.0480334758758545,\n",
       "  6.025444984436035,\n",
       "  5.923325538635254,\n",
       "  6.150327682495117)}"
      ]
     },
     "execution_count": 15,
     "metadata": {},
     "output_type": "execute_result"
    }
   ],
   "source": [
    "cross_validate(item_based_recommender, data, measures=['RMSE', 'MAE'], cv=5, verbose=True)"
   ]
  },
  {
   "cell_type": "markdown",
   "metadata": {},
   "source": [
    "### Inference\n",
    "\n",
    "Here is the meat and potatoes(har) of the whole thing."
   ]
  },
  {
   "cell_type": "code",
   "execution_count": 16,
   "metadata": {},
   "outputs": [],
   "source": [
    "def get_r(user_id):\n",
    "    # Select which system to use. Due to memory constraints, item based is the only viable option\n",
    "    recommender_system = item_based_recommender\n",
    "    # N will represent how many items to recommend\n",
    "    N = 1000\n",
    "    \n",
    "    # The setting to a set and back to list is a failsafe.\n",
    "    rated_items = list(set(ratings.loc[ratings['userid'] == user_id]['itemid'].tolist()))\n",
    "    ratings_list = recipes['itemid'].values.tolist()\n",
    "    reduced_ratings = ratings.loc[ratings['itemid'].isin(ratings_list)].copy()\n",
    "    \n",
    "    # Self explanitory name\n",
    "    all_item_ids = list(set(reduced_ratings['itemid'].tolist()))\n",
    "    \n",
    "    # New_items just represents all the items not rated by the user\n",
    "    new_items = [x for x in all_item_ids if x not in rated_items]\n",
    "    \n",
    "    # Estimate ratings for all unrated items\n",
    "    predicted_ratings = {}\n",
    "    for item_id in new_items:\n",
    "        predicted_ratings[item_id] = recommender_system.predict(user_id, item_id).est\n",
    "        pass\n",
    "    \n",
    "    # Get the item_ids for the top ratings\n",
    "    recommended_ids = heapq.nlargest(N, predicted_ratings, key=predicted_ratings.get)\n",
    "    recommended_ids = sorted(recommended_ids)\n",
    "    \n",
    "    # predicted_ratings\n",
    "    recommended_df = recipes.loc[recipes['itemid'].isin(recommended_ids)].copy()\n",
    "    #recommended_df.insert(1, 'pred_rating', np.zeros(len(recommended_ids)))\n",
    "    recommended_df.insert(1, 'pred_rating', 0)\n",
    "    \n",
    "    # recommended_df = recipes.copy()\n",
    "    for idx,item_id in enumerate(recommended_ids):\n",
    "        recommended_df.iloc[idx, recommended_df.columns.get_loc('pred_rating')] = predicted_ratings[item_id]\n",
    "        pass\n",
    "    return recommended_df.head(N).sort_values('pred_rating', ascending=False)"
   ]
  },
  {
   "cell_type": "code",
   "execution_count": 17,
   "metadata": {
    "scrolled": false
   },
   "outputs": [],
   "source": [
    "def cap_str(item):\n",
    "    string = item\n",
    "    return string.capitalize()\n",
    "\n",
    "def reg_frame(r_list,items):\n",
    "    s_ = ''\n",
    "    for i in items:\n",
    "        j = i.strip()\n",
    "        str_ = f'(?=.*{j})'\n",
    "        s_ += str_\n",
    "    s_\n",
    "    r_list = r_list[r_list['ingredients'].str.contains(fr'^\\b{s_}\\b',regex=True)]\n",
    "    return r_list\n",
    "\n",
    "def set_up_ml(user_id,ingredient_list):\n",
    "    recipe_list = get_r(user_id)\n",
    "    items = ingredient_list.split(',')\n",
    "    recipe_list = reg_frame(recipe_list,items)\n",
    "    return recipe_list"
   ]
  },
  {
   "cell_type": "markdown",
   "metadata": {},
   "source": [
    "### Get a Recommendation Based on Ingredients\n",
    "\n",
    "The final code that will be impletented in a cleaner fashion through the browser interface."
   ]
  },
  {
   "cell_type": "code",
   "execution_count": 23,
   "metadata": {},
   "outputs": [],
   "source": [
    "ingredient_list = 'tofu'"
   ]
  },
  {
   "cell_type": "code",
   "execution_count": 24,
   "metadata": {},
   "outputs": [],
   "source": [
    "user_1 = random.choice(users)#123711 # user with a medium amount of ratings\n",
    "user_2 = random.choice(users)#15078 # user with the lowest number of ratings\n",
    "user_3 = random.choice(users)#72315 # user with a lot of ratings"
   ]
  },
  {
   "cell_type": "code",
   "execution_count": 25,
   "metadata": {
    "scrolled": false
   },
   "outputs": [],
   "source": [
    "recommended_list_1 = set_up_ml(user_1,ingredient_list) # generate a list of recommendations for each user\n",
    "recommended_list_2 = set_up_ml(user_2,ingredient_list)\n",
    "recommended_list_3 = set_up_ml(user_3,ingredient_list)"
   ]
  },
  {
   "cell_type": "code",
   "execution_count": 26,
   "metadata": {},
   "outputs": [],
   "source": [
    "def get_final_recommendation(list_1,list_2,list_3): # combine all recommendations\n",
    "    recipe_recommendation = pd.DataFrame()\n",
    "    recipe_recommendation = pd.concat([list_1,list_2,list_3]) # concat lists\n",
    "    recipe_recommendation = recipe_recommendation.drop_duplicates() # drop recommended duplicates of films\n",
    "    recipe_recommendation = recipe_recommendation.sort_values('pred_rating',ascending=False) # sort by predicted rating\n",
    "    recipe_recommendation.pop('pred_rating') # drop the rating column\n",
    "    recipe_recommendation = recipe_recommendation.reset_index()\n",
    "    recipe_recommendation.pop('index') # reset and pop the old index\n",
    "    recipe_recommendation.pop('itemid')\n",
    "    #recipe_recommendation['total time'] = recipe_recommendation['prep_time']+recipe_recommendation['cook_time']\n",
    "    return recipe_recommendation"
   ]
  },
  {
   "cell_type": "code",
   "execution_count": 27,
   "metadata": {},
   "outputs": [
    {
     "data": {
      "text/html": [
       "<div>\n",
       "<style scoped>\n",
       "    .dataframe tbody tr th:only-of-type {\n",
       "        vertical-align: middle;\n",
       "    }\n",
       "\n",
       "    .dataframe tbody tr th {\n",
       "        vertical-align: top;\n",
       "    }\n",
       "\n",
       "    .dataframe thead th {\n",
       "        text-align: right;\n",
       "    }\n",
       "</style>\n",
       "<table border=\"1\" class=\"dataframe\">\n",
       "  <thead>\n",
       "    <tr style=\"text-align: right;\">\n",
       "      <th></th>\n",
       "      <th>title</th>\n",
       "      <th>prep_time</th>\n",
       "      <th>cook_time</th>\n",
       "      <th>ready_time</th>\n",
       "      <th>ingredients</th>\n",
       "      <th>directions</th>\n",
       "      <th>url</th>\n",
       "      <th>photo_url</th>\n",
       "    </tr>\n",
       "  </thead>\n",
       "  <tbody>\n",
       "    <tr>\n",
       "      <th>0</th>\n",
       "      <td>Barbecue Tofu Sandwiches Recipe</td>\n",
       "      <td>0</td>\n",
       "      <td>10</td>\n",
       "      <td>15</td>\n",
       "      <td>tofu,vegetable oil,onion,barbecue sauce,hamburger</td>\n",
       "      <td>Drain the tofu between paper towels until most...</td>\n",
       "      <td>https://www.allrecipes.com/recipe/14047</td>\n",
       "      <td>https://images.media-allrecipes.com/userphotos...</td>\n",
       "    </tr>\n",
       "    <tr>\n",
       "      <th>1</th>\n",
       "      <td>Cucumber and Tomato Salad Recipe</td>\n",
       "      <td>0</td>\n",
       "      <td>0</td>\n",
       "      <td>15</td>\n",
       "      <td>tomato,cucumber,onion,bean,tofu,basil,salad dr...</td>\n",
       "      <td>In a large bowl, combine the tomato, cucumber,...</td>\n",
       "      <td>https://www.allrecipes.com/recipe/14176</td>\n",
       "      <td>https://images.media-allrecipes.com/userphotos...</td>\n",
       "    </tr>\n",
       "  </tbody>\n",
       "</table>\n",
       "</div>"
      ],
      "text/plain": [
       "                              title  prep_time  cook_time  ready_time  \\\n",
       "0   Barbecue Tofu Sandwiches Recipe          0         10          15   \n",
       "1  Cucumber and Tomato Salad Recipe          0          0          15   \n",
       "\n",
       "                                         ingredients  \\\n",
       "0  tofu,vegetable oil,onion,barbecue sauce,hamburger   \n",
       "1  tomato,cucumber,onion,bean,tofu,basil,salad dr...   \n",
       "\n",
       "                                          directions  \\\n",
       "0  Drain the tofu between paper towels until most...   \n",
       "1  In a large bowl, combine the tomato, cucumber,...   \n",
       "\n",
       "                                       url  \\\n",
       "0  https://www.allrecipes.com/recipe/14047   \n",
       "1  https://www.allrecipes.com/recipe/14176   \n",
       "\n",
       "                                           photo_url  \n",
       "0  https://images.media-allrecipes.com/userphotos...  \n",
       "1  https://images.media-allrecipes.com/userphotos...  "
      ]
     },
     "execution_count": 27,
     "metadata": {},
     "output_type": "execute_result"
    }
   ],
   "source": [
    "final_recommendation = get_final_recommendation(recommended_list_1,recommended_list_2,recommended_list_3)\n",
    "final_recommendation"
   ]
  },
  {
   "cell_type": "markdown",
   "metadata": {},
   "source": [
    "## Save the Model"
   ]
  },
  {
   "cell_type": "code",
   "execution_count": 28,
   "metadata": {},
   "outputs": [],
   "source": [
    "import pickle\n",
    "filename = 'model/recipEeze_recommender_model.sav'\n",
    "pickle.dump(item_based_recommender, open(filename, 'wb'))"
   ]
  },
  {
   "cell_type": "code",
   "execution_count": 17,
   "metadata": {},
   "outputs": [],
   "source": [
    "rr_model = pickle.load(open(filename, 'rb'))"
   ]
  },
  {
   "cell_type": "code",
   "execution_count": 18,
   "metadata": {},
   "outputs": [
    {
     "name": "stdout",
     "output_type": "stream",
     "text": [
      "Computing the cosine similarity matrix...\n",
      "Done computing similarity matrix.\n",
      "Computing the cosine similarity matrix...\n",
      "Done computing similarity matrix.\n",
      "Computing the cosine similarity matrix...\n",
      "Done computing similarity matrix.\n",
      "Computing the cosine similarity matrix...\n",
      "Done computing similarity matrix.\n",
      "Computing the cosine similarity matrix...\n",
      "Done computing similarity matrix.\n",
      "Evaluating RMSE, MAE of algorithm KNNWithMeans on 5 split(s).\n",
      "\n",
      "                  Fold 1  Fold 2  Fold 3  Fold 4  Fold 5  Mean    Std     \n",
      "RMSE (testset)    0.9071  0.9070  0.9061  0.9060  0.9066  0.9066  0.0004  \n",
      "MAE (testset)     0.6266  0.6249  0.6253  0.6253  0.6251  0.6254  0.0006  \n",
      "Fit time          22.56   24.01   21.76   22.46   25.57   23.27   1.36    \n",
      "Test time         16.98   17.87   18.30   15.50   18.73   17.48   1.15    \n"
     ]
    },
    {
     "data": {
      "text/plain": [
       "{'test_rmse': array([0.9071256 , 0.90697745, 0.90610662, 0.90600469, 0.90660522]),\n",
       " 'test_mae': array([0.62662526, 0.62488307, 0.62527877, 0.62525857, 0.62507525]),\n",
       " 'fit_time': (22.558342695236206,\n",
       "  24.009589433670044,\n",
       "  21.762155532836914,\n",
       "  22.45959758758545,\n",
       "  25.570380926132202),\n",
       " 'test_time': (16.97546100616455,\n",
       "  17.86919665336609,\n",
       "  18.300251483917236,\n",
       "  15.498399496078491,\n",
       "  18.733608961105347)}"
      ]
     },
     "execution_count": 18,
     "metadata": {},
     "output_type": "execute_result"
    }
   ],
   "source": [
    "cross_validate(rr_model, data, measures=['RMSE', 'MAE'], cv=5, verbose=True)"
   ]
  },
  {
   "cell_type": "code",
   "execution_count": null,
   "metadata": {},
   "outputs": [],
   "source": []
  }
 ],
 "metadata": {
  "file_extension": ".py",
  "kernelspec": {
   "display_name": "Python 3",
   "language": "python",
   "name": "python3"
  },
  "language_info": {
   "codemirror_mode": {
    "name": "ipython",
    "version": 3
   },
   "file_extension": ".py",
   "mimetype": "text/x-python",
   "name": "python",
   "nbconvert_exporter": "python",
   "pygments_lexer": "ipython3",
   "version": "3.7.6"
  },
  "mimetype": "text/x-python",
  "name": "python",
  "npconvert_exporter": "python",
  "pygments_lexer": "ipython3",
  "version": 3
 },
 "nbformat": 4,
 "nbformat_minor": 2
}
